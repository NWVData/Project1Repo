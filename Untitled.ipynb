{
 "cells": [
  {
   "cell_type": "markdown",
   "id": "ab06410a-02e3-4b21-a5b0-c3baee38199d",
   "metadata": {},
   "source": [
    "# My Jupyter Notebook on IBM Watson Studio #"
   ]
  },
  {
   "cell_type": "markdown",
   "id": "dd09f498-59b1-4139-8a1a-c128c2abea54",
   "metadata": {},
   "source": [
    "**NV**"
   ]
  },
  {
   "cell_type": "markdown",
   "id": "c9cd944d-ea01-4971-9a2e-618df0d16ae0",
   "metadata": {},
   "source": [
    "Goal Occupation: Data Scientist "
   ]
  },
  {
   "cell_type": "markdown",
   "id": "8390ecc5-a81d-4f9a-b204-daba87ec106a",
   "metadata": {},
   "source": [
    "*I am interested in data science because it helps use analytics and predictive models to help companies all over the world make business decisions*"
   ]
  },
  {
   "cell_type": "markdown",
   "id": "ff0e1a1c-9aeb-41dc-b16e-c59191d9c3bf",
   "metadata": {},
   "source": [
    "### Cell 5 will show the solution to the equation \"2 + 2\" ###"
   ]
  },
  {
   "cell_type": "code",
   "execution_count": 4,
   "id": "751cc358-d68c-45d3-92af-7f68b2a365e9",
   "metadata": {},
   "outputs": [
    {
     "data": {
      "text/plain": [
       "4"
      ]
     },
     "execution_count": 4,
     "metadata": {},
     "output_type": "execute_result"
    }
   ],
   "source": [
    "2+2"
   ]
  },
  {
   "cell_type": "markdown",
   "id": "cced24b7-a843-49ed-a4e8-79431e6be62e",
   "metadata": {},
   "source": [
    "column 1 | column 2|\n",
    "|--------|---------|\n",
    "|this is |a table  |\n",
    "| with   |~~strikethrough~~|\n",
    "\n",
    "- This \n",
    "- Is \n",
    "- A\n",
    "- List"
   ]
  },
  {
   "cell_type": "code",
   "execution_count": null,
   "id": "ddcec221-c328-4e04-a603-3b529477413f",
   "metadata": {},
   "outputs": [],
   "source": [
    "\n"
   ]
  }
 ],
 "metadata": {
  "kernelspec": {
   "display_name": "Python",
   "language": "python",
   "name": "conda-env-python-py"
  },
  "language_info": {
   "codemirror_mode": {
    "name": "ipython",
    "version": 3
   },
   "file_extension": ".py",
   "mimetype": "text/x-python",
   "name": "python",
   "nbconvert_exporter": "python",
   "pygments_lexer": "ipython3",
   "version": "3.7.12"
  }
 },
 "nbformat": 4,
 "nbformat_minor": 5
}
